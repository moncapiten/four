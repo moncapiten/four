{
 "cells": [
  {
   "cell_type": "code",
   "execution_count": 197,
   "id": "6af99be3",
   "metadata": {},
   "outputs": [
    {
     "name": "stdout",
     "output_type": "stream",
     "text": [
      "Dispositivo #1 [SN:210321AA1961, hdwf=1] connesso!\n",
      "Configurazione #1\n"
     ]
    },
    {
     "data": {
      "text/plain": [
       "'\\nfor i in range(360):\\n    wgen.w2.config(phi=i)\\n    wgen.w2.start()\\n    time.sleep(0.5)\\n'"
      ]
     },
     "execution_count": 197,
     "metadata": {},
     "output_type": "execute_result"
    }
   ],
   "source": [
    "import tdwf\n",
    "import numpy as np\n",
    "import matplotlib.pyplot as plt\n",
    "import time\n",
    "\n",
    "ad2 = tdwf.AD2()\n",
    "\n",
    "\n",
    "wgen = tdwf.WaveGen(ad2.hdwf)\n",
    "\n",
    "wgen.w1.config(ampl=1, freq=1, phi=0.0, func=tdwf.funcSquare, duty=50)\n",
    "wgen.w2.config(ampl=1, freq=1, phi=90.0, func=tdwf.funcSquare, duty=50)\n",
    "\n",
    "wgen.w1.sync()\n",
    "wgen.w2.sync()\n",
    "\n",
    "wgen.w1.start()\n",
    "'''\n",
    "for i in range(360):\n",
    "    wgen.w2.config(phi=i)\n",
    "    wgen.w2.start()\n",
    "    time.sleep(0.5)\n",
    "'''"
   ]
  },
  {
   "cell_type": "code",
   "execution_count": 229,
   "id": "d595ce6e",
   "metadata": {},
   "outputs": [
    {
     "name": "stdout",
     "output_type": "stream",
     "text": [
      "Dispositivo #1 [SN:210321AA1961, hdwf=1] connesso!\n",
      "Configurazione #1\n",
      "[]\n"
     ]
    }
   ],
   "source": [
    "import tdwf\n",
    "import numpy as np\n",
    "from numpy import pi\n",
    "\n",
    "ad2 = tdwf.AD2()\n",
    "wgen = tdwf.WaveGen(ad2.hdwf)\n",
    "\n",
    "# Create a square path manually with 4 segments\n",
    "samples_per_edge = 100\n",
    "pause = 10  # time to hold corners\n",
    "\n",
    "# Right edge: x from -1 to 1, y = -1\n",
    "right = np.column_stack((np.linspace(-1, 1, samples_per_edge), -1 * np.ones(samples_per_edge)))\n",
    "# Top edge: x = 1, y from -1 to 1\n",
    "top = np.column_stack((np.ones(samples_per_edge), np.linspace(-1, 1, samples_per_edge)))\n",
    "# Left edge: x from 1 to -1, y = 1\n",
    "left = np.column_stack((np.linspace(1, -1, samples_per_edge), np.ones(samples_per_edge)))\n",
    "# Bottom edge: x = -1, y from 1 to -1\n",
    "bottom = np.column_stack((-1 * np.ones(samples_per_edge), np.linspace(1, -1, samples_per_edge)))\n",
    "\n",
    "# Combine all edges\n",
    "square_path = np.concatenate([right, top, left, bottom])\n",
    "\n",
    "theta = np.deg2rad(90)  # Rotation angle in radians\n",
    "rotation_matrix = np.array([\n",
    "    [np.cos(theta), -np.sin(theta)],\n",
    "    [np.sin(theta),  np.cos(theta)]\n",
    "])\n",
    "\n",
    "rotated_path = square_path @ rotation_matrix.T  # Matrix multiply\n",
    "\n",
    "max_abs = np.abs(rotated_path).max()\n",
    "rotated_path /= max_abs\n",
    "\n",
    "overOne = [ x for x in rotated_path if x[0] > 1 or x[0] < -1 or x[1] > 1 or x[1] < -1 ]\n",
    "\n",
    "print(overOne)\n",
    "\n",
    "if len(overOne) > 0:\n",
    "    print(\"Warning: Some points are outside the range of -1 to 1. Adjusting them to fit within the range.\")\n",
    "    rotated_path = np.clip(rotated_path, -1, 1)  # Clip values to be within -1 to 1\n",
    "\n",
    "# Normalize to 0–1 for Wavegen, scale to -1 to +1\n",
    "x_data = rotated_path[:, 0]\n",
    "y_data = rotated_path[:, 1]\n",
    "\n",
    "# Load into both channels\n",
    "wgen.w1.config(data=x_data, func=tdwf.funcCustom, freq=1e4, ampl=5)\n",
    "wgen.w2.config(data=y_data, func=tdwf.funcCustom, freq=1e4, ampl=4)\n",
    "\n",
    "wgen.w1.sync()\n",
    "wgen.w2.sync()\n",
    "\n",
    "wgen.w1.start()\n"
   ]
  },
  {
   "cell_type": "code",
   "execution_count": null,
   "id": "b499fc23",
   "metadata": {},
   "outputs": [],
   "source": [
    "import tdwf\n",
    "import numpy as np\n",
    "from numpy import pi\n",
    "\n",
    "ad2 = tdwf.AD2()\n",
    "wgen = tdwf.WaveGen(ad2.hdwf)\n",
    "\n",
    "# Create a square path manually with 4 segments\n",
    "samples_per_edge = 100\n",
    "pause = 10  # time to hold corners\n",
    "\n",
    "# Right edge: x from -1 to 1, y = -1\n",
    "right = np.column_stack((np.linspace(-1, 1, samples_per_edge), -1 * np.ones(samples_per_edge)))\n",
    "# Top edge: x = 1, y from -1 to 1\n",
    "top = np.column_stack((np.ones(samples_per_edge), np.linspace(-1, 1, samples_per_edge)))\n",
    "# Left edge: x from 1 to -1, y = 1\n",
    "left = np.column_stack((np.linspace(1, -1, samples_per_edge), np.ones(samples_per_edge)))\n",
    "# Bottom edge: x = -1, y from 1 to -1\n",
    "bottom = np.column_stack((-1 * np.ones(samples_per_edge), np.linspace(1, -1, samples_per_edge)))\n",
    "\n",
    "# Combine all edges\n",
    "square_path = np.concatenate([right, top, left, bottom])\n",
    "\n",
    "theta = np.deg2rad(90)  # Rotation angle in radians\n",
    "rotation_matrix = np.array([\n",
    "    [np.cos(theta), -np.sin(theta)],\n",
    "    [np.sin(theta),  np.cos(theta)]\n",
    "])\n",
    "\n",
    "rotated_path = square_path @ rotation_matrix.T  # Matrix multiply\n",
    "\n",
    "max_abs = np.abs(rotated_path).max()\n",
    "rotated_path /= max_abs\n",
    "\n",
    "overOne = [ x for x in rotated_path if x[0] > 1 or x[0] < -1 or x[1] > 1 or x[1] < -1 ]\n",
    "\n",
    "print(overOne)\n",
    "\n",
    "if len(overOne) > 0:\n",
    "    print(\"Warning: Some points are outside the range of -1 to 1. Adjusting them to fit within the range.\")\n",
    "    rotated_path = np.clip(rotated_path, -1, 1)  # Clip values to be within -1 to 1\n",
    "\n",
    "# Normalize to 0–1 for Wavegen, scale to -1 to +1\n",
    "x_data = rotated_path[:, 0]\n",
    "y_data = rotated_path[:, 1]\n",
    "\n",
    "# Load into both channels\n",
    "wgen.w1.config(data=x_data, func=tdwf.funcCustom, freq=1e4, ampl=5)\n",
    "wgen.w2.config(data=y_data, func=tdwf.funcCustom, freq=1e4, ampl=4)\n",
    "\n",
    "wgen.w1.sync()\n",
    "wgen.w2.sync()\n",
    "\n",
    "wgen.w1.start()\n"
   ]
  }
 ],
 "metadata": {
  "kernelspec": {
   "display_name": "Python 3",
   "language": "python",
   "name": "python3"
  },
  "language_info": {
   "codemirror_mode": {
    "name": "ipython",
    "version": 3
   },
   "file_extension": ".py",
   "mimetype": "text/x-python",
   "name": "python",
   "nbconvert_exporter": "python",
   "pygments_lexer": "ipython3",
   "version": "3.12.6"
  }
 },
 "nbformat": 4,
 "nbformat_minor": 5
}
